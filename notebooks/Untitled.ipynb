{
 "cells": [
  {
   "cell_type": "code",
   "execution_count": 1,
   "metadata": {},
   "outputs": [],
   "source": [
    "import os\n",
    "import json"
   ]
  },
  {
   "cell_type": "code",
   "execution_count": 2,
   "metadata": {},
   "outputs": [],
   "source": [
    "dh_dirpath = os.path.expanduser('~/.datahack')"
   ]
  },
  {
   "cell_type": "code",
   "execution_count": 3,
   "metadata": {},
   "outputs": [],
   "source": [
    "drive_key_fname = 'google_drive_service_account_key.json'"
   ]
  },
  {
   "cell_type": "code",
   "execution_count": 4,
   "metadata": {},
   "outputs": [],
   "source": [
    "drive_key_fpath = os.path.join(dh_dirpath, drive_key_fname)"
   ]
  },
  {
   "cell_type": "code",
   "execution_count": 5,
   "metadata": {},
   "outputs": [],
   "source": [
    "with open(drive_key_fpath, 'r') as drive_key_file:\n",
    "    drive_key = json.load(drive_key_file)"
   ]
  },
  {
   "cell_type": "code",
   "execution_count": 6,
   "metadata": {},
   "outputs": [],
   "source": [
    "# drive_key"
   ]
  },
  {
   "cell_type": "code",
   "execution_count": 7,
   "metadata": {},
   "outputs": [],
   "source": [
    "import gspread\n",
    "from oauth2client.service_account import ServiceAccountCredentials\n",
    "\n",
    "scope = ['https://spreadsheets.google.com/feeds']\n",
    "credentials = ServiceAccountCredentials.from_json_keyfile_name(drive_key_fpath, scope)\n",
    "gc = gspread.authorize(credentials)"
   ]
  },
  {
   "cell_type": "code",
   "execution_count": 8,
   "metadata": {},
   "outputs": [],
   "source": [
    "# wks = gc.open(\"Where is the money Lebowski?\").sheet1\n",
    "# sht1 = gc.open_by_url('https://docs.google.com/spreadsheets/d/1k-dpHkkrgF36Q6f3Ewj50337BW3tItUegLq_UOEWkms/edit#gid=1766436516'))\n",
    "dh_users = gc.open_by_key('1k-dpHkkrgF36Q6f3Ewj50337BW3tItUegLq_UOEWkms')"
   ]
  },
  {
   "cell_type": "code",
   "execution_count": 9,
   "metadata": {},
   "outputs": [],
   "source": [
    "users = dh_users.worksheet('Users')"
   ]
  },
  {
   "cell_type": "markdown",
   "metadata": {},
   "source": [
    "## Worksheet to dataframe"
   ]
  },
  {
   "cell_type": "code",
   "execution_count": null,
   "metadata": {},
   "outputs": [],
   "source": [
    "import pandas as pd"
   ]
  },
  {
   "cell_type": "code",
   "execution_count": null,
   "metadata": {},
   "outputs": [],
   "source": [
    "def cut_to_headers(list_of_lists, headers_list):\n",
    "    return [sublist[:len(headers_list)] for sublist in list_of_lists]"
   ]
  },
  {
   "cell_type": "code",
   "execution_count": null,
   "metadata": {},
   "outputs": [],
   "source": [
    "def worksheet_to_df(worksheet):\n",
    "    list_of_lists = worksheet.get_all_values()\n",
    "    headers = list_of_lists[0]\n",
    "    list_of_lists = list_of_lists[1:]\n",
    "    list_of_lists = cut_to_headers(list_of_lists, headers)\n",
    "    return pd.DataFrame(list_of_lists, columns=headers)"
   ]
  },
  {
   "cell_type": "code",
   "execution_count": null,
   "metadata": {},
   "outputs": [],
   "source": [
    "df = worksheet_to_df(users)"
   ]
  },
  {
   "cell_type": "code",
   "execution_count": null,
   "metadata": {},
   "outputs": [],
   "source": [
    "df['status'] = df['status'].str.lower()"
   ]
  },
  {
   "cell_type": "code",
   "execution_count": null,
   "metadata": {},
   "outputs": [],
   "source": [
    "users_df = df"
   ]
  },
  {
   "cell_type": "code",
   "execution_count": null,
   "metadata": {},
   "outputs": [],
   "source": [
    "accepted = users_df[users_df['status'] == 'yes']"
   ]
  },
  {
   "cell_type": "code",
   "execution_count": null,
   "metadata": {},
   "outputs": [],
   "source": [
    "len(accepted)"
   ]
  },
  {
   "cell_type": "code",
   "execution_count": null,
   "metadata": {},
   "outputs": [],
   "source": [
    "# list(accepted['email'])"
   ]
  },
  {
   "cell_type": "code",
   "execution_count": 28,
   "metadata": {},
   "outputs": [],
   "source": [
    "import mongozen"
   ]
  },
  {
   "cell_type": "code",
   "execution_count": 29,
   "metadata": {},
   "outputs": [],
   "source": [
    "dhusers = mongozen.get_collection('users', 'datahack', 'datahack', 'datahack')"
   ]
  },
  {
   "cell_type": "code",
   "execution_count": 30,
   "metadata": {},
   "outputs": [
    {
     "data": {
      "text/plain": [
       "{'__v': 0,\n",
       " '_id': ObjectId('59b6a2ef83cd4d601d44c4e4'),\n",
       " 'accepted': False,\n",
       " 'age': '31',\n",
       " 'bus': False,\n",
       " 'class': 'data_scientist',\n",
       " 'confirmation_email': True,\n",
       " 'degree': 'graduate',\n",
       " 'email': 'ronifeldman@gmail.com',\n",
       " 'field': 'Machine Learning',\n",
       " 'first_name': 'Roni',\n",
       " 'food': 'all',\n",
       " 'gender': 'male',\n",
       " 'hacker': False,\n",
       " 'institution': 'Hebrew University',\n",
       " 'isAdmin': False,\n",
       " 'isMember': False,\n",
       " 'last_name': 'Feldman',\n",
       " 'mailOk': True,\n",
       " 'newsletter': False,\n",
       " 'password': '7760bc4be91448ade27c68ee8b92b13d',\n",
       " 'phone': '054-444-9466',\n",
       " 'provider': 'local',\n",
       " 'regDate': 'Mon Sep 11 2017 17:47:58 GMT+0300 (IDT)',\n",
       " 'shirtsize': 'small',\n",
       " 'shirttype': 'regular',\n",
       " 'sleep': 'no',\n",
       " 'student': False,\n",
       " 'tags': '',\n",
       " 'team': '',\n",
       " 'teamstatus': 'none',\n",
       " 'transport': 'public',\n",
       " 'workshop': False}"
      ]
     },
     "execution_count": 30,
     "metadata": {},
     "output_type": "execute_result"
    }
   ],
   "source": [
    "dhusers.find_one()"
   ]
  },
  {
   "cell_type": "code",
   "execution_count": null,
   "metadata": {},
   "outputs": [],
   "source": [
    "dhusers.update_many?"
   ]
  },
  {
   "cell_type": "markdown",
   "metadata": {},
   "source": [
    "## Updating table with team information"
   ]
  },
  {
   "cell_type": "code",
   "execution_count": 10,
   "metadata": {},
   "outputs": [],
   "source": [
    "ABC_LETTERS = 'ABCDEFGHIJKLMNOPQRSTUVWXYZ'"
   ]
  },
  {
   "cell_type": "code",
   "execution_count": 11,
   "metadata": {},
   "outputs": [],
   "source": [
    "def num_to_letter(num):\n",
    "    try:\n",
    "        return ABC_LETTERS[num-1]\n",
    "    except IndexError:\n",
    "        return 'A'+ num_to_letter(num-26)"
   ]
  },
  {
   "cell_type": "code",
   "execution_count": 12,
   "metadata": {},
   "outputs": [
    {
     "data": {
      "text/plain": [
       "'AA'"
      ]
     },
     "execution_count": 12,
     "metadata": {},
     "output_type": "execute_result"
    }
   ],
   "source": [
    "num_to_letter(27)"
   ]
  },
  {
   "cell_type": "code",
   "execution_count": 13,
   "metadata": {},
   "outputs": [],
   "source": [
    "headers = users.row_values(1)"
   ]
  },
  {
   "cell_type": "code",
   "execution_count": 14,
   "metadata": {},
   "outputs": [],
   "source": [
    "header_to_letter = {header: num_to_letter(i+1) for i, header in enumerate(headers)}\n",
    "# header_to_letter"
   ]
  },
  {
   "cell_type": "code",
   "execution_count": 31,
   "metadata": {},
   "outputs": [
    {
     "data": {
      "text/plain": [
       "{'': 27,\n",
       " '#': 1,\n",
       " 'Comments': 26,\n",
       " 'age': 21,\n",
       " 'bus': 12,\n",
       " 'class': 19,\n",
       " 'degree': 6,\n",
       " 'email': 5,\n",
       " 'field': 7,\n",
       " 'first_name': 2,\n",
       " 'food': 16,\n",
       " 'gender': 4,\n",
       " 'hacker': 13,\n",
       " 'institution': 8,\n",
       " 'last_name': 3,\n",
       " 'phone': 22,\n",
       " 'regDate': 23,\n",
       " 'shirtsize': 15,\n",
       " 'shirttype': 14,\n",
       " 'sleep': 17,\n",
       " 'status': 25,\n",
       " 'student': 18,\n",
       " 'tags': 24,\n",
       " 'team': 10,\n",
       " 'teamstatus': 9,\n",
       " 'transportnewsletter': 20,\n",
       " 'workshop': 11}"
      ]
     },
     "execution_count": 31,
     "metadata": {},
     "output_type": "execute_result"
    }
   ],
   "source": [
    "header_to_number = {header: i+1 for i, header in enumerate(headers)}\n",
    "header_to_number"
   ]
  },
  {
   "cell_type": "code",
   "execution_count": 16,
   "metadata": {},
   "outputs": [],
   "source": [
    "# worksheet.acell('B1').value"
   ]
  },
  {
   "cell_type": "code",
   "execution_count": 17,
   "metadata": {},
   "outputs": [],
   "source": [
    "def get_emails_from_worksheet(worksheet):\n",
    "    emails_col = users.col_values(header_to_number['email'])\n",
    "    emails_col = emails_col[1:]\n",
    "    return [email for email in emails_col if email != '']"
   ]
  },
  {
   "cell_type": "code",
   "execution_count": 18,
   "metadata": {},
   "outputs": [],
   "source": [
    "emails = get_emails_from_worksheet(users)"
   ]
  },
  {
   "cell_type": "code",
   "execution_count": 19,
   "metadata": {},
   "outputs": [
    {
     "data": {
      "text/plain": [
       "574"
      ]
     },
     "execution_count": 19,
     "metadata": {},
     "output_type": "execute_result"
    }
   ],
   "source": [
    "len(emails)"
   ]
  },
  {
   "cell_type": "code",
   "execution_count": 20,
   "metadata": {},
   "outputs": [],
   "source": [
    "import mongozen\n",
    "dhusers = mongozen.get_collection('users', 'datahack', 'datahack', 'datahack')"
   ]
  },
  {
   "cell_type": "code",
   "execution_count": 24,
   "metadata": {},
   "outputs": [
    {
     "data": {
      "text/plain": [
       "'guyling.gl@gmail.com'"
      ]
     },
     "execution_count": 24,
     "metadata": {},
     "output_type": "execute_result"
    }
   ],
   "source": [
    "some_email = emails[0]\n",
    "some_email_row = 2\n",
    "some_email"
   ]
  },
  {
   "cell_type": "code",
   "execution_count": 25,
   "metadata": {},
   "outputs": [
    {
     "data": {
      "text/plain": [
       "'59b90985483c8d01acfb89ae'"
      ]
     },
     "execution_count": 25,
     "metadata": {},
     "output_type": "execute_result"
    }
   ],
   "source": [
    "uptodate_team = dhusers.find_one({'email': some_email})['team']\n",
    "uptodate_team"
   ]
  },
  {
   "cell_type": "code",
   "execution_count": 23,
   "metadata": {},
   "outputs": [
    {
     "data": {
      "text/plain": [
       "'guyling.gl@gmail.com'"
      ]
     },
     "execution_count": 23,
     "metadata": {},
     "output_type": "execute_result"
    }
   ],
   "source": [
    "users.cell(some_email_row, header_to_number['email']).value"
   ]
  },
  {
   "cell_type": "code",
   "execution_count": 26,
   "metadata": {},
   "outputs": [],
   "source": [
    "users.update_cell(some_email_row, header_to_number['team'], uptodate_team)"
   ]
  },
  {
   "cell_type": "code",
   "execution_count": null,
   "metadata": {
    "scrolled": true
   },
   "outputs": [],
   "source": [
    "def email_to_cell(email):\n",
    "    "
   ]
  },
  {
   "cell_type": "code",
   "execution_count": null,
   "metadata": {},
   "outputs": [],
   "source": [
    "some_email = \"bar2010.t@gmail.com\""
   ]
  },
  {
   "cell_type": "code",
   "execution_count": null,
   "metadata": {},
   "outputs": [],
   "source": [
    "email_to_cell(some_email)"
   ]
  },
  {
   "cell_type": "code",
   "execution_count": 27,
   "metadata": {},
   "outputs": [
    {
     "data": {
      "text/plain": [
       "[<Cell R2C5 'guyling.gl@gmail.com'>]"
      ]
     },
     "execution_count": 27,
     "metadata": {},
     "output_type": "execute_result"
    }
   ],
   "source": [
    "users.findall(some_email)"
   ]
  },
  {
   "cell_type": "code",
   "execution_count": null,
   "metadata": {},
   "outputs": [],
   "source": []
  },
  {
   "cell_type": "code",
   "execution_count": null,
   "metadata": {},
   "outputs": [],
   "source": []
  }
 ],
 "metadata": {
  "kernelspec": {
   "display_name": "Python 3",
   "language": "python",
   "name": "python3"
  },
  "language_info": {
   "codemirror_mode": {
    "name": "ipython",
    "version": 3
   },
   "file_extension": ".py",
   "mimetype": "text/x-python",
   "name": "python",
   "nbconvert_exporter": "python",
   "pygments_lexer": "ipython3",
   "version": "3.6.2"
  }
 },
 "nbformat": 4,
 "nbformat_minor": 2
}
